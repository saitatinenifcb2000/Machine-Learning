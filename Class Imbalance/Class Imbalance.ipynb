{
 "cells": [
  {
   "cell_type": "markdown",
   "id": "f90f22cb",
   "metadata": {},
   "source": [
    "# Resampling\n",
    "* Under Sampling - Removing Samples randomly from the Majority Class\n",
    "* Over Sampling - Adding Samples randomly to the Minority Class "
   ]
  },
  {
   "cell_type": "code",
   "execution_count": 1,
   "id": "6904dc77",
   "metadata": {},
   "outputs": [],
   "source": [
    "import pandas as pd\n",
    "import numpy as np\n",
    "from matplotlib import pyplot as plt\n",
    "import seaborn as sns"
   ]
  },
  {
   "cell_type": "code",
   "execution_count": 2,
   "id": "ce59cf4b",
   "metadata": {},
   "outputs": [
    {
     "data": {
      "text/plain": [
       "(400, 5)"
      ]
     },
     "execution_count": 2,
     "metadata": {},
     "output_type": "execute_result"
    }
   ],
   "source": [
    "df = pd.read_csv(\"Social_Network_Ads.csv\")\n",
    "df.shape"
   ]
  },
  {
   "cell_type": "code",
   "execution_count": 3,
   "id": "0906f7ce",
   "metadata": {},
   "outputs": [
    {
     "data": {
      "text/html": [
       "<div>\n",
       "<style scoped>\n",
       "    .dataframe tbody tr th:only-of-type {\n",
       "        vertical-align: middle;\n",
       "    }\n",
       "\n",
       "    .dataframe tbody tr th {\n",
       "        vertical-align: top;\n",
       "    }\n",
       "\n",
       "    .dataframe thead th {\n",
       "        text-align: right;\n",
       "    }\n",
       "</style>\n",
       "<table border=\"1\" class=\"dataframe\">\n",
       "  <thead>\n",
       "    <tr style=\"text-align: right;\">\n",
       "      <th></th>\n",
       "      <th>User ID</th>\n",
       "      <th>Gender</th>\n",
       "      <th>Age</th>\n",
       "      <th>EstimatedSalary</th>\n",
       "      <th>Purchased</th>\n",
       "    </tr>\n",
       "  </thead>\n",
       "  <tbody>\n",
       "    <tr>\n",
       "      <th>0</th>\n",
       "      <td>15624510</td>\n",
       "      <td>Male</td>\n",
       "      <td>19</td>\n",
       "      <td>19000</td>\n",
       "      <td>0</td>\n",
       "    </tr>\n",
       "    <tr>\n",
       "      <th>1</th>\n",
       "      <td>15810944</td>\n",
       "      <td>Male</td>\n",
       "      <td>35</td>\n",
       "      <td>20000</td>\n",
       "      <td>0</td>\n",
       "    </tr>\n",
       "  </tbody>\n",
       "</table>\n",
       "</div>"
      ],
      "text/plain": [
       "    User ID Gender  Age  EstimatedSalary  Purchased\n",
       "0  15624510   Male   19            19000          0\n",
       "1  15810944   Male   35            20000          0"
      ]
     },
     "execution_count": 3,
     "metadata": {},
     "output_type": "execute_result"
    }
   ],
   "source": [
    "df.head(2)"
   ]
  },
  {
   "cell_type": "code",
   "execution_count": null,
   "id": "583292cc",
   "metadata": {},
   "outputs": [],
   "source": [
    "sns.countplot(x = 'Purchased', data = df);"
   ]
  },
  {
   "cell_type": "code",
   "execution_count": null,
   "id": "14074ffe",
   "metadata": {},
   "outputs": [],
   "source": [
    "df['Purchased'].value_counts()"
   ]
  },
  {
   "cell_type": "code",
   "execution_count": null,
   "id": "6f4c9363",
   "metadata": {},
   "outputs": [],
   "source": [
    "class_count_0, class_count_1 = df['Purchased'].value_counts()\n",
    "print(class_count_0)\n",
    "print(class_count_1)"
   ]
  },
  {
   "cell_type": "code",
   "execution_count": null,
   "id": "16854a65",
   "metadata": {},
   "outputs": [],
   "source": [
    "# Separate the Classes\n",
    "class_0 = df[df['Purchased'] == 0]\n",
    "class_1 = df[df['Purchased'] == 1]"
   ]
  },
  {
   "cell_type": "code",
   "execution_count": null,
   "id": "f729ad31",
   "metadata": {},
   "outputs": [],
   "source": [
    "class_0.shape"
   ]
  },
  {
   "cell_type": "code",
   "execution_count": null,
   "id": "97cd90c9",
   "metadata": {},
   "outputs": [],
   "source": [
    "class_1.shape"
   ]
  },
  {
   "cell_type": "markdown",
   "id": "77e5110d",
   "metadata": {},
   "source": [
    "# Random Under Sampling\n",
    "* Try using the same with Imblearn package as well"
   ]
  },
  {
   "cell_type": "code",
   "execution_count": null,
   "id": "6d6a67df",
   "metadata": {},
   "outputs": [],
   "source": [
    "under = class_0.sample(class_count_1)"
   ]
  },
  {
   "cell_type": "code",
   "execution_count": null,
   "id": "17cd6e60",
   "metadata": {},
   "outputs": [],
   "source": [
    "under.shape"
   ]
  },
  {
   "cell_type": "code",
   "execution_count": null,
   "id": "d32b196b",
   "metadata": {},
   "outputs": [],
   "source": [
    "finaldf = pd.concat([under, class_1])\n",
    "finaldf.shape"
   ]
  },
  {
   "cell_type": "code",
   "execution_count": null,
   "id": "63093f4d",
   "metadata": {},
   "outputs": [],
   "source": [
    "finaldf.columns"
   ]
  },
  {
   "cell_type": "code",
   "execution_count": null,
   "id": "e3f93adf",
   "metadata": {},
   "outputs": [],
   "source": [
    "sns.countplot(x = 'Purchased', data = finaldf);"
   ]
  },
  {
   "cell_type": "markdown",
   "id": "cb09d037",
   "metadata": {},
   "source": [
    "# Random Over Sampling"
   ]
  },
  {
   "cell_type": "code",
   "execution_count": null,
   "id": "8612e5e1",
   "metadata": {},
   "outputs": [],
   "source": [
    "over = class_1.sample(class_count_0, replace=True)\n",
    "finaldf = pd.concat([over, class_0])"
   ]
  },
  {
   "cell_type": "code",
   "execution_count": null,
   "id": "65136b65",
   "metadata": {},
   "outputs": [],
   "source": [
    "sns.countplot(x = 'Purchased', data = finaldf);"
   ]
  },
  {
   "cell_type": "code",
   "execution_count": null,
   "id": "ad241b5e",
   "metadata": {},
   "outputs": [],
   "source": [
    "finaldf['Purchased'].value_counts()"
   ]
  },
  {
   "cell_type": "markdown",
   "id": "04e6dd82",
   "metadata": {},
   "source": [
    "# SMOTE - Synthetic Minority Over-sampling Technique"
   ]
  },
  {
   "cell_type": "markdown",
   "id": "dbac8b1b",
   "metadata": {},
   "source": [
    "1. Choose 1 datapoint among the minority class(currently 143 minority classes - 1)\n",
    "1. Find its nearest neighbour(KNN = 5)\n",
    "1. Create a Synthetic datapoint between the minority class and the nearest neighbour\n",
    "1. Repeats the process until the class is balanced"
   ]
  },
  {
   "cell_type": "code",
   "execution_count": null,
   "id": "c9b064a0",
   "metadata": {},
   "outputs": [],
   "source": [
    "df.head()"
   ]
  },
  {
   "cell_type": "code",
   "execution_count": 4,
   "id": "fca6f030",
   "metadata": {},
   "outputs": [],
   "source": [
    "x = df.drop(columns = \"Purchased\")\n",
    "y = df.iloc[:, -1]"
   ]
  },
  {
   "cell_type": "code",
   "execution_count": 5,
   "id": "48869142",
   "metadata": {},
   "outputs": [
    {
     "data": {
      "text/html": [
       "<div>\n",
       "<style scoped>\n",
       "    .dataframe tbody tr th:only-of-type {\n",
       "        vertical-align: middle;\n",
       "    }\n",
       "\n",
       "    .dataframe tbody tr th {\n",
       "        vertical-align: top;\n",
       "    }\n",
       "\n",
       "    .dataframe thead th {\n",
       "        text-align: right;\n",
       "    }\n",
       "</style>\n",
       "<table border=\"1\" class=\"dataframe\">\n",
       "  <thead>\n",
       "    <tr style=\"text-align: right;\">\n",
       "      <th></th>\n",
       "      <th>User ID</th>\n",
       "      <th>Gender</th>\n",
       "      <th>Age</th>\n",
       "      <th>EstimatedSalary</th>\n",
       "    </tr>\n",
       "  </thead>\n",
       "  <tbody>\n",
       "    <tr>\n",
       "      <th>0</th>\n",
       "      <td>15624510</td>\n",
       "      <td>Male</td>\n",
       "      <td>19</td>\n",
       "      <td>19000</td>\n",
       "    </tr>\n",
       "    <tr>\n",
       "      <th>1</th>\n",
       "      <td>15810944</td>\n",
       "      <td>Male</td>\n",
       "      <td>35</td>\n",
       "      <td>20000</td>\n",
       "    </tr>\n",
       "    <tr>\n",
       "      <th>2</th>\n",
       "      <td>15668575</td>\n",
       "      <td>Female</td>\n",
       "      <td>26</td>\n",
       "      <td>43000</td>\n",
       "    </tr>\n",
       "    <tr>\n",
       "      <th>3</th>\n",
       "      <td>15603246</td>\n",
       "      <td>Female</td>\n",
       "      <td>27</td>\n",
       "      <td>57000</td>\n",
       "    </tr>\n",
       "    <tr>\n",
       "      <th>4</th>\n",
       "      <td>15804002</td>\n",
       "      <td>Male</td>\n",
       "      <td>19</td>\n",
       "      <td>76000</td>\n",
       "    </tr>\n",
       "  </tbody>\n",
       "</table>\n",
       "</div>"
      ],
      "text/plain": [
       "    User ID  Gender  Age  EstimatedSalary\n",
       "0  15624510    Male   19            19000\n",
       "1  15810944    Male   35            20000\n",
       "2  15668575  Female   26            43000\n",
       "3  15603246  Female   27            57000\n",
       "4  15804002    Male   19            76000"
      ]
     },
     "execution_count": 5,
     "metadata": {},
     "output_type": "execute_result"
    }
   ],
   "source": [
    "x.head()"
   ]
  },
  {
   "cell_type": "code",
   "execution_count": 6,
   "id": "86d9693b",
   "metadata": {},
   "outputs": [],
   "source": [
    "from sklearn.preprocessing import LabelEncoder\n",
    "x['Gender'] = LabelEncoder().fit_transform(x['Gender'])"
   ]
  },
  {
   "cell_type": "code",
   "execution_count": null,
   "id": "96805f73",
   "metadata": {},
   "outputs": [],
   "source": [
    "x.head()"
   ]
  },
  {
   "cell_type": "code",
   "execution_count": null,
   "id": "b08d5a69",
   "metadata": {},
   "outputs": [],
   "source": [
    "y.head()"
   ]
  },
  {
   "cell_type": "code",
   "execution_count": null,
   "id": "972fec41",
   "metadata": {},
   "outputs": [],
   "source": [
    "# Used for secondary data structures - Counter - Counts the frequency of values\n",
    "from collections import Counter"
   ]
  },
  {
   "cell_type": "code",
   "execution_count": null,
   "id": "84ecac06",
   "metadata": {},
   "outputs": [],
   "source": [
    "# import library\n",
    "from imblearn.over_sampling import SMOTE\n",
    "\n",
    "smote = SMOTE()\n",
    "\n",
    "# fit predictor and target variable\n",
    "x_smote, y_smote = smote.fit_resample(x, y)\n",
    "\n",
    "print('Original dataset shape', Counter(y))\n",
    "print('Resample dataset shape', Counter(y_smote))"
   ]
  },
  {
   "cell_type": "code",
   "execution_count": null,
   "id": "67ad2b9f",
   "metadata": {},
   "outputs": [],
   "source": [
    "x_smote['Class'] = y_smote"
   ]
  },
  {
   "cell_type": "code",
   "execution_count": null,
   "id": "bea47cbe",
   "metadata": {},
   "outputs": [],
   "source": [
    "x_smote.head()"
   ]
  },
  {
   "cell_type": "code",
   "execution_count": null,
   "id": "e1b6df5b",
   "metadata": {},
   "outputs": [],
   "source": [
    "x_smote.shape"
   ]
  },
  {
   "cell_type": "code",
   "execution_count": null,
   "id": "374ed68b",
   "metadata": {},
   "outputs": [],
   "source": [
    "sns.countplot(x = 'Class', data = x_smote);"
   ]
  },
  {
   "cell_type": "markdown",
   "id": "857c11b3",
   "metadata": {},
   "source": [
    "# Weights\n",
    "* use utils package for assigning weights"
   ]
  },
  {
   "cell_type": "code",
   "execution_count": 7,
   "id": "0527cfe7",
   "metadata": {},
   "outputs": [
    {
     "name": "stdout",
     "output_type": "stream",
     "text": [
      "ROCAUC score: 1.0\n",
      "Accuracy score: 1.0\n",
      "F1 score: 1.0\n"
     ]
    }
   ],
   "source": [
    "# load library\n",
    "from sklearn.ensemble import RandomForestClassifier\n",
    "from sklearn.metrics import roc_auc_score, accuracy_score, f1_score\n",
    "\n",
    "# we can add class_weight='balanced' to add panalize mistake\n",
    "rfc_model = RandomForestClassifier(class_weight='balanced')\n",
    "\n",
    "rfc_model.fit(x, y)\n",
    "\n",
    "rfc_predict = rfc_model.predict(x)# check performance\n",
    "print('ROCAUC score:',roc_auc_score(y, rfc_predict))\n",
    "print('Accuracy score:',accuracy_score(y, rfc_predict))\n",
    "print('F1 score:',f1_score(y, rfc_predict))"
   ]
  },
  {
   "cell_type": "code",
   "execution_count": null,
   "id": "c6936ad2",
   "metadata": {},
   "outputs": [],
   "source": []
  }
 ],
 "metadata": {
  "kernelspec": {
   "display_name": "Python 3 (ipykernel)",
   "language": "python",
   "name": "python3"
  },
  "language_info": {
   "codemirror_mode": {
    "name": "ipython",
    "version": 3
   },
   "file_extension": ".py",
   "mimetype": "text/x-python",
   "name": "python",
   "nbconvert_exporter": "python",
   "pygments_lexer": "ipython3",
   "version": "3.9.7"
  }
 },
 "nbformat": 4,
 "nbformat_minor": 5
}
